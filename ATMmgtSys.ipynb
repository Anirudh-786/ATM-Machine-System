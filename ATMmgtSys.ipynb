{
 "cells": [
  {
   "cell_type": "code",
   "execution_count": 1,
   "id": "e2ad3c8e-1017-46f9-8f33-ae05084d68d1",
   "metadata": {},
   "outputs": [],
   "source": [
    "#checkbal\n",
    "#withdraw\n",
    "#deposit\n",
    "#change pin"
   ]
  },
  {
   "cell_type": "code",
   "execution_count": null,
   "id": "6aebe981-6a21-4329-a3ad-fa482e3ccdd1",
   "metadata": {},
   "outputs": [
    {
     "name": "stdout",
     "output_type": "stream",
     "text": [
      "-----------------------------------------------\n",
      "\n",
      "1. Check Balance\n",
      "2. withdraw Ammount \n",
      "3.deposit Amm'ount \n",
      "4. Change Pin\n",
      "5. Exit\n",
      "\n",
      "----------------------------------------------\n"
     ]
    },
    {
     "name": "stdin",
     "output_type": "stream",
     "text": [
      "Enter your choice: 2\n",
      "enter Ammount you want withdraw 3000\n"
     ]
    },
    {
     "name": "stdout",
     "output_type": "stream",
     "text": [
      "3000.0 are Debited\n",
      "Now Your Total Bal is 7000.0\n",
      "-----------------------------------------------\n",
      "\n",
      "1. Check Balance\n",
      "2. withdraw Ammount \n",
      "3.deposit Amm'ount \n",
      "4. Change Pin\n",
      "5. Exit\n",
      "\n",
      "----------------------------------------------\n"
     ]
    },
    {
     "name": "stdin",
     "output_type": "stream",
     "text": [
      "Enter your choice: 4\n",
      "Enter Your Pin 5678\n",
      "Enter new pin 1111\n"
     ]
    },
    {
     "name": "stdout",
     "output_type": "stream",
     "text": [
      "Pin Reset successfully\n",
      "Your Current Pin is: 1111\n",
      "-----------------------------------------------\n",
      "\n",
      "1. Check Balance\n",
      "2. withdraw Ammount \n",
      "3.deposit Amm'ount \n",
      "4. Change Pin\n",
      "5. Exit\n",
      "\n",
      "----------------------------------------------\n"
     ]
    }
   ],
   "source": [
    "class ATMClass:\n",
    "  def __init__(self,name,pin,balance):\n",
    "      self.name=name\n",
    "      self.pin=pin\n",
    "      self.balance=balance\n",
    "      \n",
    "  def checkbal(self):\n",
    "      upin=int(input(\"Enter Your PassWord\"))\n",
    "      if(upin==self.pin): #pin validation-correct\n",
    "          print(\"Your Total Balance is:\",self.balance)\n",
    "      else:\n",
    "          print(\"Incorrect Pin\")\n",
    "      \n",
    "  def withdraw(self):\n",
    "      amm=float(input(\"enter Ammount you want withdraw\"))\n",
    "      if(amm<=self.balance):\n",
    "          print(f\"{amm} are Debited\")\n",
    "          self.balance-=amm\n",
    "          print(\"Now Your Total Bal is\",self.balance )\n",
    "          \n",
    "      else:\n",
    "          print(\"Insuffcient Balance\") \n",
    "      \n",
    "     \n",
    "  def deposit(self):\n",
    "      damm=float(input(\"Enter Deposit Ammount\"))\n",
    "      self.balance +=damm\n",
    "      print(\"Now Your Total Bal is\",self.balance )\n",
    "  def changepin(self)  :\n",
    "     p=int(input(\"Enter Your Pin\"))\n",
    "     if( self.pin==p):\n",
    "         updatedpin=int(input(\"Enter new pin\"))\n",
    "         self.pin=updatedpin\n",
    "         print(\"Pin Reset successfully\")\n",
    "         print(\"Your Current Pin is:\",self.pin)\n",
    "     else:\n",
    "         print(\"Incorrect Pin\")\n",
    "\n",
    "a=ATMClass(\"Payal\",5678,10000)\n",
    "while True:\n",
    "    print(\"-----------------------------------------------\\n\")  \n",
    "    print(\"1. Check Balance\")\n",
    "    print(\"2. withdraw Ammount \")\n",
    "    print(\"3.deposit Amm'ount \")\n",
    "    print(\"4. Change Pin\")\n",
    "    print(\"5. Exit\")  \n",
    "    print(\"\\n----------------------------------------------\") \n",
    "    ch=int(input(\"Enter your choice:\"))\n",
    "    if(ch==1):\n",
    "      a.checkbal()\n",
    "    elif(ch==2):\n",
    "      a.withdraw()  \n",
    "    elif(ch==3):\n",
    "      a.deposit()   \n",
    "    elif(ch==4):\n",
    "      a.changepin()\n",
    "    elif(ch==5):\n",
    "      print(\"Exited\")\n",
    "      break  \n",
    "    else:\n",
    "       print(\"Invalid Input\")\n",
    "\n"
   ]
  },
  {
   "cell_type": "code",
   "execution_count": null,
   "id": "bffc7ff0-e5a9-48d6-b844-6cb4221fdeab",
   "metadata": {},
   "outputs": [],
   "source": []
  }
 ],
 "metadata": {
  "kernelspec": {
   "display_name": "Python [conda env:base] *",
   "language": "python",
   "name": "conda-base-py"
  },
  "language_info": {
   "codemirror_mode": {
    "name": "ipython",
    "version": 3
   },
   "file_extension": ".py",
   "mimetype": "text/x-python",
   "name": "python",
   "nbconvert_exporter": "python",
   "pygments_lexer": "ipython3",
   "version": "3.11.5"
  }
 },
 "nbformat": 4,
 "nbformat_minor": 5
}
